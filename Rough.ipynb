{
 "cells": [
  {
   "cell_type": "code",
   "execution_count": 6,
   "metadata": {
    "collapsed": true
   },
   "outputs": [],
   "source": [
    "import os\n",
    "import shutil\n",
    "import subprocess as OS\n",
    "import requests\n",
    "from bs4 import BeautifulSoup\n",
    "import wget\n",
    "import datetime"
   ]
  },
  {
   "cell_type": "code",
   "execution_count": 7,
   "outputs": [],
   "source": [
    "base_URL = \"www.wire3.com\""
   ],
   "metadata": {
    "collapsed": false
   }
  },
  {
   "cell_type": "code",
   "execution_count": 24,
   "outputs": [
    {
     "name": "stdout",
     "output_type": "stream",
     "text": [
      "Starting Nmap 7.93 ( https://nmap.org ) at 2022-11-16 23:46 EST\n",
      "Nmap scan report for www.wire3.com (35.206.120.212)\n",
      "Host is up (0.035s latency).\n",
      "rDNS record for 35.206.120.212: 212.120.206.35.bc.googleusercontent.com\n",
      "Not shown: 989 filtered tcp ports (no-response)\n",
      "PORT     STATE SERVICE    VERSION\n",
      "21/tcp   open  ftp        Pure-FTPd\n",
      "| ssl-cert: Subject: commonName=c50444.sgvps.net\n",
      "| Subject Alternative Name: DNS:c50444.sgvps.net\n",
      "| Not valid before: 2022-09-26T07:36:13\n",
      "|_Not valid after:  2022-12-25T07:36:12\n",
      "|_ssl-date: 2022-11-17T04:46:52+00:00; -30s from scanner time.\n",
      "25/tcp   open  smtp\n",
      "| fingerprint-strings: \n",
      "|   GenericLines: \n",
      "|     220-c50444.sgvps.net ESMTP #2 Thu, 17 Nov 2022 04:46:34 +0000 \n",
      "|     220-We do not authorize the use of this system to transport unsolicited, \n",
      "|     and/or bulk e-mail.\n",
      "|     unrecognized command\n",
      "|     unrecognized command\n",
      "|   GetRequest: \n",
      "|     220-c50444.sgvps.net ESMTP #2 Thu, 17 Nov 2022 04:46:39 +0000 \n",
      "|     220-We do not authorize the use of this system to transport unsolicited, \n",
      "|     and/or bulk e-mail.\n",
      "|     unrecognized command\n",
      "|     unrecognized command\n",
      "|   Hello: \n",
      "|     220-c50444.sgvps.net ESMTP #2 Thu, 17 Nov 2022 04:46:20 +0000 \n",
      "|     220-We do not authorize the use of this system to transport unsolicited, \n",
      "|     and/or bulk e-mail.\n",
      "|     550-You can not sent a blank HELO/EHLO request. 8.9.85.21 sent [] EHLO/HELO\n",
      "|     greeting. Please see RFC 2821 section 4.1.1.1\n",
      "|   Help: \n",
      "|     220-c50444.sgvps.net ESMTP #2 Thu, 17 Nov 2022 04:46:26 +0000 \n",
      "|     220-We do not authorize the use of this system to transport unsolicited, \n",
      "|     and/or bulk e-mail.\n",
      "|     214-Commands supported:\n",
      "|     AUTH STARTTLS HELO EHLO MAIL RCPT DATA BDAT NOOP QUIT RSET HELP VRFY\n",
      "|   NULL: \n",
      "|     220-c50444.sgvps.net ESMTP #2 Thu, 17 Nov 2022 04:46:20 +0000 \n",
      "|     220-We do not authorize the use of this system to transport unsolicited, \n",
      "|_    and/or bulk e-mail.\n",
      "|_ssl-date: 2022-11-17T04:46:52+00:00; -30s from scanner time.\n",
      "| ssl-cert: Subject: commonName=wire3.com\n",
      "| Subject Alternative Name: DNS:wire3.com, DNS:www.wire3.com\n",
      "| Not valid before: 2022-11-16T10:49:17\n",
      "|_Not valid after:  2023-02-14T10:49:16\n",
      "| smtp-commands: c50444.sgvps.net Hello www.wire3.com [8.9.85.21], SIZE 52428800, 8BITMIME, DSN, VRFY, AUTH LOGIN PLAIN, STARTTLS, HELP\n",
      "|_ Commands supported: AUTH STARTTLS HELO EHLO MAIL RCPT DATA BDAT NOOP QUIT RSET HELP VRFY\n",
      "80/tcp   open  http       nginx\n",
      "110/tcp  open  pop3       Dovecot pop3d\n",
      "| ssl-cert: Subject: commonName=c50444.sgvps.net\n",
      "| Subject Alternative Name: DNS:c50444.sgvps.net\n",
      "| Not valid before: 2022-09-26T07:36:13\n",
      "|_Not valid after:  2022-12-25T07:36:12\n",
      "|_ssl-date: 2022-11-17T04:46:53+00:00; -30s from scanner time.\n",
      "|_pop3-capabilities: USER AUTH-RESP-CODE UIDL RESP-CODES PIPELINING TOP CAPA SASL(PLAIN LOGIN) STLS\n",
      "143/tcp  open  imap       Dovecot imapd\n",
      "|_ssl-date: 2022-11-17T04:46:52+00:00; -30s from scanner time.\n",
      "| ssl-cert: Subject: commonName=c50444.sgvps.net\n",
      "| Subject Alternative Name: DNS:c50444.sgvps.net\n",
      "| Not valid before: 2022-09-26T07:36:13\n",
      "|_Not valid after:  2022-12-25T07:36:12\n",
      "|_imap-capabilities: AUTH=PLAIN SAVEDATE IDLE more SORT UIDPLUS LITERAL+ SEARCHRES LOGIN-REFERRALS THREAD=REFERENCES QUOTA I18NLEVEL=1 URL-PARTIAL MULTIAPPEND WITHIN Pre-login post-login listed SASL-IR capabilities have STATUS=SIZE QRESYNC SORT=DISPLAY ESORT OK CHILDREN THREAD=ORDEREDSUBJECT NAMESPACE AUTH=LOGINA0001 STARTTLS COMPRESS=DEFLATE UNSELECT PREVIEW=FUZZY SNIPPET=FUZZY CATENATE ID LIST-EXTENDED LIST-STATUS IMAP4rev1 CONTEXT=SEARCH ENABLE ESEARCH MOVE THREAD=REFS CONDSTORE\n",
      "443/tcp  open  ssl/http   nginx\n",
      "|_ssl-date: TLS randomness does not represent time\n",
      "| ssl-cert: Subject: commonName=wire3.com\n",
      "| Subject Alternative Name: DNS:wire3.com, DNS:www.wire3.com\n",
      "| Not valid before: 2022-11-16T10:49:17\n",
      "|_Not valid after:  2023-02-14T10:49:16\n",
      "| tls-alpn: \n",
      "|   h2\n",
      "|   http/1.1\n",
      "|   http/1.0\n",
      "|_  http/0.9\n",
      "|_http-title: 400 The plain HTTP request was sent to HTTPS port\n",
      "587/tcp  open  smtp\n",
      "| ssl-cert: Subject: commonName=wire3.com\n",
      "| Subject Alternative Name: DNS:wire3.com, DNS:www.wire3.com\n",
      "| Not valid before: 2022-11-16T10:49:17\n",
      "|_Not valid after:  2023-02-14T10:49:16\n",
      "|_smtp-ntlm-info: ERROR: Script execution failed (use -d to debug)\n",
      "| fingerprint-strings: \n",
      "|   GenericLines: \n",
      "|     220-c50444.sgvps.net ESMTP #2 Thu, 17 Nov 2022 04:46:20 +0000 \n",
      "|     220-We do not authorize the use of this system to transport unsolicited, \n",
      "|     and/or bulk e-mail.\n",
      "|     unrecognized command\n",
      "|     unrecognized command\n",
      "|   GetRequest: \n",
      "|     220-c50444.sgvps.net ESMTP #2 Thu, 17 Nov 2022 04:46:39 +0000 \n",
      "|     220-We do not authorize the use of this system to transport unsolicited, \n",
      "|     and/or bulk e-mail.\n",
      "|     unrecognized command\n",
      "|     unrecognized command\n",
      "|   Hello: \n",
      "|     220-c50444.sgvps.net ESMTP #2 Thu, 17 Nov 2022 04:46:31 +0000 \n",
      "|     220-We do not authorize the use of this system to transport unsolicited, \n",
      "|     and/or bulk e-mail.\n",
      "|     550-You can not sent a blank HELO/EHLO request. 8.9.85.21 sent [] EHLO/HELO\n",
      "|     greeting. Please see RFC 2821 section 4.1.1.1\n",
      "|   Help: \n",
      "|     220-c50444.sgvps.net ESMTP #2 Thu, 17 Nov 2022 04:46:31 +0000 \n",
      "|     220-We do not authorize the use of this system to transport unsolicited, \n",
      "|     and/or bulk e-mail.\n",
      "|     214-Commands supported:\n",
      "|     AUTH STARTTLS HELO EHLO MAIL RCPT DATA BDAT NOOP QUIT RSET HELP VRFY\n",
      "|   NULL: \n",
      "|     220-c50444.sgvps.net ESMTP #2 Thu, 17 Nov 2022 04:46:20 +0000 \n",
      "|     220-We do not authorize the use of this system to transport unsolicited, \n",
      "|_    and/or bulk e-mail.\n",
      "|_ssl-date: 2022-11-17T04:46:52+00:00; -29s from scanner time.\n",
      "| smtp-commands: c50444.sgvps.net Hello www.wire3.com [8.9.85.21], SIZE 52428800, 8BITMIME, DSN, VRFY, AUTH LOGIN PLAIN, STARTTLS, HELP\n",
      "|_ Commands supported: AUTH STARTTLS HELO EHLO MAIL RCPT DATA BDAT NOOP QUIT RSET HELP VRFY\n",
      "993/tcp  open  ssl/imap   Dovecot imapd\n",
      "|_ssl-date: 2022-11-17T04:46:51+00:00; -30s from scanner time.\n",
      "| ssl-cert: Subject: commonName=c50444.sgvps.net\n",
      "| Subject Alternative Name: DNS:c50444.sgvps.net\n",
      "| Not valid before: 2022-09-26T07:36:13\n",
      "|_Not valid after:  2022-12-25T07:36:12\n",
      "|_imap-capabilities: CAPABILITY\n",
      "995/tcp  open  ssl/pop3   Dovecot pop3d\n",
      "| ssl-cert: Subject: commonName=c50444.sgvps.net\n",
      "| Subject Alternative Name: DNS:c50444.sgvps.net\n",
      "| Not valid before: 2022-09-26T07:36:13\n",
      "|_Not valid after:  2022-12-25T07:36:12\n",
      "|_ssl-date: 2022-11-17T04:46:51+00:00; -30s from scanner time.\n",
      "|_pop3-capabilities: RESP-CODES PIPELINING AUTH-RESP-CODE TOP UIDL USER SASL(PLAIN LOGIN) CAPA\n",
      "3306/tcp open  mysql      MySQL (unauthorized)\n",
      "5432/tcp open  postgresql PostgreSQL DB 14.1 - 14.5\n",
      "2 services unrecognized despite returning data. If you know the service/version, please submit the following fingerprints at https://nmap.org/cgi-bin/submit.cgi?new-service :\n",
      "==============NEXT SERVICE FINGERPRINT (SUBMIT INDIVIDUALLY)==============\n",
      "SF-Port25-TCP:V=7.93%I=7%D=11/16%Time=6375BCC0%P=x86_64-pc-linux-gnu%r(NUL\n",
      "SF:L,A4,\"220-c50444\\.sgvps\\.net\\x20ESMTP\\x20#2\\x20Thu,\\x2017\\x20Nov\\x20202\n",
      "SF:2\\x2004:46:20\\x20\\+0000\\x20\\r\\n220-We\\x20do\\x20not\\x20authorize\\x20the\\\n",
      "SF:x20use\\x20of\\x20this\\x20system\\x20to\\x20transport\\x20unsolicited,\\x20\\r\n",
      "SF:\\n220\\x20and/or\\x20bulk\\x20e-mail\\.\\r\\n\")%r(Hello,124,\"220-c50444\\.sgvp\n",
      "SF:s\\.net\\x20ESMTP\\x20#2\\x20Thu,\\x2017\\x20Nov\\x202022\\x2004:46:20\\x20\\+000\n",
      "SF:0\\x20\\r\\n220-We\\x20do\\x20not\\x20authorize\\x20the\\x20use\\x20of\\x20this\\x\n",
      "SF:20system\\x20to\\x20transport\\x20unsolicited,\\x20\\r\\n220\\x20and/or\\x20bul\n",
      "SF:k\\x20e-mail\\.\\r\\n550-You\\x20can\\x20not\\x20sent\\x20a\\x20blank\\x20HELO/EH\n",
      "SF:LO\\x20request\\.\\x208\\.9\\.85\\.21\\x20sent\\x20\\[\\]\\x20EHLO/HELO\\r\\n550\\x20\n",
      "SF:greeting\\.\\x20Please\\x20see\\x20RFC\\x202821\\x20section\\x204\\.1\\.1\\.1\\r\\n\n",
      "SF:\")%r(Help,107,\"220-c50444\\.sgvps\\.net\\x20ESMTP\\x20#2\\x20Thu,\\x2017\\x20N\n",
      "SF:ov\\x202022\\x2004:46:26\\x20\\+0000\\x20\\r\\n220-We\\x20do\\x20not\\x20authoriz\n",
      "SF:e\\x20the\\x20use\\x20of\\x20this\\x20system\\x20to\\x20transport\\x20unsolicit\n",
      "SF:ed,\\x20\\r\\n220\\x20and/or\\x20bulk\\x20e-mail\\.\\r\\n214-Commands\\x20support\n",
      "SF:ed:\\r\\n214\\x20AUTH\\x20STARTTLS\\x20HELO\\x20EHLO\\x20MAIL\\x20RCPT\\x20DATA\\\n",
      "SF:x20BDAT\\x20NOOP\\x20QUIT\\x20RSET\\x20HELP\\x20VRFY\\r\\n\")%r(GenericLines,D8\n",
      "SF:,\"220-c50444\\.sgvps\\.net\\x20ESMTP\\x20#2\\x20Thu,\\x2017\\x20Nov\\x202022\\x2\n",
      "SF:004:46:34\\x20\\+0000\\x20\\r\\n220-We\\x20do\\x20not\\x20authorize\\x20the\\x20u\n",
      "SF:se\\x20of\\x20this\\x20system\\x20to\\x20transport\\x20unsolicited,\\x20\\r\\n22\n",
      "SF:0\\x20and/or\\x20bulk\\x20e-mail\\.\\r\\n500\\x20unrecognized\\x20command\\r\\n50\n",
      "SF:0\\x20unrecognized\\x20command\\r\\n\")%r(GetRequest,D8,\"220-c50444\\.sgvps\\.\n",
      "SF:net\\x20ESMTP\\x20#2\\x20Thu,\\x2017\\x20Nov\\x202022\\x2004:46:39\\x20\\+0000\\x\n",
      "SF:20\\r\\n220-We\\x20do\\x20not\\x20authorize\\x20the\\x20use\\x20of\\x20this\\x20s\n",
      "SF:ystem\\x20to\\x20transport\\x20unsolicited,\\x20\\r\\n220\\x20and/or\\x20bulk\\x\n",
      "SF:20e-mail\\.\\r\\n500\\x20unrecognized\\x20command\\r\\n500\\x20unrecognized\\x20\n",
      "SF:command\\r\\n\");\n",
      "==============NEXT SERVICE FINGERPRINT (SUBMIT INDIVIDUALLY)==============\n",
      "SF-Port587-TCP:V=7.93%I=7%D=11/16%Time=6375BCC0%P=x86_64-pc-linux-gnu%r(NU\n",
      "SF:LL,A4,\"220-c50444\\.sgvps\\.net\\x20ESMTP\\x20#2\\x20Thu,\\x2017\\x20Nov\\x2020\n",
      "SF:22\\x2004:46:20\\x20\\+0000\\x20\\r\\n220-We\\x20do\\x20not\\x20authorize\\x20the\n",
      "SF:\\x20use\\x20of\\x20this\\x20system\\x20to\\x20transport\\x20unsolicited,\\x20\\\n",
      "SF:r\\n220\\x20and/or\\x20bulk\\x20e-mail\\.\\r\\n\")%r(GenericLines,D8,\"220-c5044\n",
      "SF:4\\.sgvps\\.net\\x20ESMTP\\x20#2\\x20Thu,\\x2017\\x20Nov\\x202022\\x2004:46:20\\x\n",
      "SF:20\\+0000\\x20\\r\\n220-We\\x20do\\x20not\\x20authorize\\x20the\\x20use\\x20of\\x2\n",
      "SF:0this\\x20system\\x20to\\x20transport\\x20unsolicited,\\x20\\r\\n220\\x20and/or\n",
      "SF:\\x20bulk\\x20e-mail\\.\\r\\n500\\x20unrecognized\\x20command\\r\\n500\\x20unreco\n",
      "SF:gnized\\x20command\\r\\n\")%r(Hello,124,\"220-c50444\\.sgvps\\.net\\x20ESMTP\\x2\n",
      "SF:0#2\\x20Thu,\\x2017\\x20Nov\\x202022\\x2004:46:31\\x20\\+0000\\x20\\r\\n220-We\\x2\n",
      "SF:0do\\x20not\\x20authorize\\x20the\\x20use\\x20of\\x20this\\x20system\\x20to\\x20\n",
      "SF:transport\\x20unsolicited,\\x20\\r\\n220\\x20and/or\\x20bulk\\x20e-mail\\.\\r\\n5\n",
      "SF:50-You\\x20can\\x20not\\x20sent\\x20a\\x20blank\\x20HELO/EHLO\\x20request\\.\\x2\n",
      "SF:08\\.9\\.85\\.21\\x20sent\\x20\\[\\]\\x20EHLO/HELO\\r\\n550\\x20greeting\\.\\x20Plea\n",
      "SF:se\\x20see\\x20RFC\\x202821\\x20section\\x204\\.1\\.1\\.1\\r\\n\")%r(Help,107,\"220\n",
      "SF:-c50444\\.sgvps\\.net\\x20ESMTP\\x20#2\\x20Thu,\\x2017\\x20Nov\\x202022\\x2004:4\n",
      "SF:6:31\\x20\\+0000\\x20\\r\\n220-We\\x20do\\x20not\\x20authorize\\x20the\\x20use\\x2\n",
      "SF:0of\\x20this\\x20system\\x20to\\x20transport\\x20unsolicited,\\x20\\r\\n220\\x20\n",
      "SF:and/or\\x20bulk\\x20e-mail\\.\\r\\n214-Commands\\x20supported:\\r\\n214\\x20AUTH\n",
      "SF:\\x20STARTTLS\\x20HELO\\x20EHLO\\x20MAIL\\x20RCPT\\x20DATA\\x20BDAT\\x20NOOP\\x2\n",
      "SF:0QUIT\\x20RSET\\x20HELP\\x20VRFY\\r\\n\")%r(GetRequest,D8,\"220-c50444\\.sgvps\\\n",
      "SF:.net\\x20ESMTP\\x20#2\\x20Thu,\\x2017\\x20Nov\\x202022\\x2004:46:39\\x20\\+0000\\\n",
      "SF:x20\\r\\n220-We\\x20do\\x20not\\x20authorize\\x20the\\x20use\\x20of\\x20this\\x20\n",
      "SF:system\\x20to\\x20transport\\x20unsolicited,\\x20\\r\\n220\\x20and/or\\x20bulk\\\n",
      "SF:x20e-mail\\.\\r\\n500\\x20unrecognized\\x20command\\r\\n500\\x20unrecognized\\x2\n",
      "SF:0command\\r\\n\");\n",
      "\n",
      "Host script results:\n",
      "|_clock-skew: mean: -29s, deviation: 0s, median: -30s\n",
      "\n",
      "Service detection performed. Please report any incorrect results at https://nmap.org/submit/ .\n",
      "Nmap done: 1 IP address (1 host up) scanned in 83.01 seconds\n",
      "\n"
     ]
    }
   ],
   "source": [
    "output = OS.run([\"nmap\", \"-sV\", \"-sC\",base_URL], stdout=OS.PIPE)\n",
    "print(output.stdout.decode(\"utf-8\"))"
   ],
   "metadata": {
    "collapsed": false
   }
  },
  {
   "cell_type": "code",
   "execution_count": 26,
   "outputs": [
    {
     "ename": "AttributeError",
     "evalue": "'str' object has no attribute 'stdout'",
     "output_type": "error",
     "traceback": [
      "\u001B[0;31m---------------------------------------------------------------------------\u001B[0m",
      "\u001B[0;31mAttributeError\u001B[0m                            Traceback (most recent call last)",
      "Cell \u001B[0;32mIn [26], line 1\u001B[0m\n\u001B[0;32m----> 1\u001B[0m output \u001B[38;5;241m=\u001B[39m \u001B[43moutput\u001B[49m\u001B[38;5;241;43m.\u001B[39;49m\u001B[43mstdout\u001B[49m\u001B[38;5;241m.\u001B[39mdecode(\u001B[38;5;124m\"\u001B[39m\u001B[38;5;124mutf-8\u001B[39m\u001B[38;5;124m\"\u001B[39m)\n\u001B[1;32m      2\u001B[0m output\n",
      "\u001B[0;31mAttributeError\u001B[0m: 'str' object has no attribute 'stdout'"
     ]
    }
   ],
   "source": [
    "output = output.stdout.decode(\"utf-8\")\n",
    "output"
   ],
   "metadata": {
    "collapsed": false
   }
  },
  {
   "cell_type": "code",
   "execution_count": 11,
   "outputs": [
    {
     "data": {
      "text/plain": "['Starting Nmap 7.93 ( https://nmap.org ) at 2022-11-16 23:19 EST',\n 'Nmap scan report for www.wire3.com (35.206.120.212)',\n 'Host is up (0.034s latency).',\n 'rDNS record for 35.206.120.212: 212.120.206.35.bc.googleusercontent.com',\n 'Not shown: 990 filtered tcp ports (no-response)',\n 'PORT     STATE SERVICE',\n '21/tcp   open  ftp',\n '25/tcp   open  smtp',\n '80/tcp   open  http',\n '110/tcp  open  pop3',\n '143/tcp  open  imap',\n '443/tcp  open  https',\n '587/tcp  open  submission',\n '993/tcp  open  imaps',\n '995/tcp  open  pop3s',\n '3306/tcp open  mysql',\n '',\n 'Nmap done: 1 IP address (1 host up) scanned in 44.45 seconds',\n '']"
     },
     "execution_count": 11,
     "metadata": {},
     "output_type": "execute_result"
    }
   ],
   "source": [
    "output_lines = output.split(\"\\n\")\n",
    "output_lines"
   ],
   "metadata": {
    "collapsed": false
   }
  },
  {
   "cell_type": "code",
   "execution_count": 18,
   "outputs": [
    {
     "name": "stdout",
     "output_type": "stream",
     "text": [
      "['PORT', '', '', '', '', 'STATE', 'SERVICE']\n"
     ]
    }
   ],
   "source": [
    "for i in output_lines:\n",
    "    if i.startswith(\"PORT\"):\n",
    "        line = i.split(\" \")\n",
    "        print(line)"
   ],
   "metadata": {
    "collapsed": false
   }
  },
  {
   "cell_type": "code",
   "execution_count": null,
   "outputs": [],
   "source": [],
   "metadata": {
    "collapsed": false
   }
  }
 ],
 "metadata": {
  "kernelspec": {
   "display_name": "Python 3",
   "language": "python",
   "name": "python3"
  },
  "language_info": {
   "codemirror_mode": {
    "name": "ipython",
    "version": 2
   },
   "file_extension": ".py",
   "mimetype": "text/x-python",
   "name": "python",
   "nbconvert_exporter": "python",
   "pygments_lexer": "ipython2",
   "version": "2.7.6"
  }
 },
 "nbformat": 4,
 "nbformat_minor": 0
}
